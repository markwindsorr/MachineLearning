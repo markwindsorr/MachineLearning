{
 "cells": [
  {
   "cell_type": "markdown",
   "metadata": {},
   "source": [
    "## Kaggle Intro To ML"
   ]
  },
  {
   "cell_type": "markdown",
   "metadata": {},
   "source": [
    "We'll start with a model called the Decision Tree. There are fancier models that give more accurate predictions, but decision trees are easy to understand, and they are the basic building block for some of the best models in data science.\n",
    "\n",
    "A decision tree consists of 3 types of nodes:\n",
    "\n",
    "1. Decision Nodes: represented by squares\n",
    "2. Chance Nodes: typically represented by circles\n",
    "3. End Nodes: typically represented by triangles\n",
    "\n",
    "The predicted value from the model is at the bottom of the tree.\n",
    "\n",
    "\n",
    "<img src=\"decisionTree.png\">\n"
   ]
  }
 ],
 "metadata": {
  "kernelspec": {
   "display_name": "Python 3",
   "language": "python",
   "name": "python3"
  },
  "language_info": {
   "codemirror_mode": {
    "name": "ipython",
    "version": 3
   },
   "file_extension": ".py",
   "mimetype": "text/x-python",
   "name": "python",
   "nbconvert_exporter": "python",
   "pygments_lexer": "ipython3",
   "version": "3.7.5"
  }
 },
 "nbformat": 4,
 "nbformat_minor": 4
}
